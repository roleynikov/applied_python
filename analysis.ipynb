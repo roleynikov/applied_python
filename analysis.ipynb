{
 "cells": [
  {
   "cell_type": "code",
   "execution_count": 1,
   "metadata": {},
   "outputs": [],
   "source": [
    "import pandas as pd\n",
    "import numpy as np\n",
    "from multiprocessing import Pool, cpu_count\n",
    "import time\n",
    "import warnings\n",
    "warnings.filterwarnings(\"ignore\")"
   ]
  },
  {
   "cell_type": "code",
   "execution_count": 106,
   "metadata": {},
   "outputs": [
    {
     "data": {
      "text/html": [
       "<div>\n",
       "<style scoped>\n",
       "    .dataframe tbody tr th:only-of-type {\n",
       "        vertical-align: middle;\n",
       "    }\n",
       "\n",
       "    .dataframe tbody tr th {\n",
       "        vertical-align: top;\n",
       "    }\n",
       "\n",
       "    .dataframe thead th {\n",
       "        text-align: right;\n",
       "    }\n",
       "</style>\n",
       "<table border=\"1\" class=\"dataframe\">\n",
       "  <thead>\n",
       "    <tr style=\"text-align: right;\">\n",
       "      <th></th>\n",
       "      <th>city</th>\n",
       "      <th>timestamp</th>\n",
       "      <th>temperature</th>\n",
       "      <th>season</th>\n",
       "    </tr>\n",
       "  </thead>\n",
       "  <tbody>\n",
       "    <tr>\n",
       "      <th>0</th>\n",
       "      <td>New York</td>\n",
       "      <td>2010-01-01</td>\n",
       "      <td>3.225691</td>\n",
       "      <td>winter</td>\n",
       "    </tr>\n",
       "    <tr>\n",
       "      <th>1</th>\n",
       "      <td>New York</td>\n",
       "      <td>2010-01-02</td>\n",
       "      <td>-1.491755</td>\n",
       "      <td>winter</td>\n",
       "    </tr>\n",
       "    <tr>\n",
       "      <th>2</th>\n",
       "      <td>New York</td>\n",
       "      <td>2010-01-03</td>\n",
       "      <td>-5.728947</td>\n",
       "      <td>winter</td>\n",
       "    </tr>\n",
       "    <tr>\n",
       "      <th>3</th>\n",
       "      <td>New York</td>\n",
       "      <td>2010-01-04</td>\n",
       "      <td>3.179504</td>\n",
       "      <td>winter</td>\n",
       "    </tr>\n",
       "    <tr>\n",
       "      <th>4</th>\n",
       "      <td>New York</td>\n",
       "      <td>2010-01-05</td>\n",
       "      <td>1.976765</td>\n",
       "      <td>winter</td>\n",
       "    </tr>\n",
       "  </tbody>\n",
       "</table>\n",
       "</div>"
      ],
      "text/plain": [
       "       city   timestamp  temperature  season\n",
       "0  New York  2010-01-01     3.225691  winter\n",
       "1  New York  2010-01-02    -1.491755  winter\n",
       "2  New York  2010-01-03    -5.728947  winter\n",
       "3  New York  2010-01-04     3.179504  winter\n",
       "4  New York  2010-01-05     1.976765  winter"
      ]
     },
     "execution_count": 106,
     "metadata": {},
     "output_type": "execute_result"
    }
   ],
   "source": [
    "df = pd.read_csv(\"temperature_data.csv\")\n",
    "df.head()"
   ]
  },
  {
   "cell_type": "markdown",
   "metadata": {},
   "source": [
    "Создаем функции, которые вычисляют скользящее среднее за 30 дней, вычисляют статистику по городу,сезону и на основе статистики по сезону,городу вычисляют аномалии"
   ]
  },
  {
   "cell_type": "code",
   "execution_count": 107,
   "metadata": {},
   "outputs": [
    {
     "data": {
      "text/html": [
       "<div>\n",
       "<style scoped>\n",
       "    .dataframe tbody tr th:only-of-type {\n",
       "        vertical-align: middle;\n",
       "    }\n",
       "\n",
       "    .dataframe tbody tr th {\n",
       "        vertical-align: top;\n",
       "    }\n",
       "\n",
       "    .dataframe thead th {\n",
       "        text-align: right;\n",
       "    }\n",
       "</style>\n",
       "<table border=\"1\" class=\"dataframe\">\n",
       "  <thead>\n",
       "    <tr style=\"text-align: right;\">\n",
       "      <th></th>\n",
       "      <th>city</th>\n",
       "      <th>timestamp</th>\n",
       "      <th>temperature</th>\n",
       "      <th>season</th>\n",
       "      <th>rolling_avg</th>\n",
       "    </tr>\n",
       "  </thead>\n",
       "  <tbody>\n",
       "    <tr>\n",
       "      <th>54731</th>\n",
       "      <td>Mexico City</td>\n",
       "      <td>2019-12-11</td>\n",
       "      <td>6.196322</td>\n",
       "      <td>winter</td>\n",
       "      <td>13.130485</td>\n",
       "    </tr>\n",
       "    <tr>\n",
       "      <th>54732</th>\n",
       "      <td>Mexico City</td>\n",
       "      <td>2019-12-12</td>\n",
       "      <td>8.957218</td>\n",
       "      <td>winter</td>\n",
       "      <td>12.846377</td>\n",
       "    </tr>\n",
       "    <tr>\n",
       "      <th>54733</th>\n",
       "      <td>Mexico City</td>\n",
       "      <td>2019-12-13</td>\n",
       "      <td>8.384216</td>\n",
       "      <td>winter</td>\n",
       "      <td>12.620020</td>\n",
       "    </tr>\n",
       "    <tr>\n",
       "      <th>54734</th>\n",
       "      <td>Mexico City</td>\n",
       "      <td>2019-12-14</td>\n",
       "      <td>10.919698</td>\n",
       "      <td>winter</td>\n",
       "      <td>12.015437</td>\n",
       "    </tr>\n",
       "    <tr>\n",
       "      <th>54735</th>\n",
       "      <td>Mexico City</td>\n",
       "      <td>2019-12-15</td>\n",
       "      <td>5.078125</td>\n",
       "      <td>winter</td>\n",
       "      <td>11.601360</td>\n",
       "    </tr>\n",
       "  </tbody>\n",
       "</table>\n",
       "</div>"
      ],
      "text/plain": [
       "              city   timestamp  temperature  season  rolling_avg\n",
       "54731  Mexico City  2019-12-11     6.196322  winter    13.130485\n",
       "54732  Mexico City  2019-12-12     8.957218  winter    12.846377\n",
       "54733  Mexico City  2019-12-13     8.384216  winter    12.620020\n",
       "54734  Mexico City  2019-12-14    10.919698  winter    12.015437\n",
       "54735  Mexico City  2019-12-15     5.078125  winter    11.601360"
      ]
     },
     "execution_count": 107,
     "metadata": {},
     "output_type": "execute_result"
    }
   ],
   "source": [
    "def rolling_average(data):\n",
    "    data['rolling_avg'] = data['temperature'].rolling(window=30, center=True).mean()\n",
    "    return data\n",
    "\n",
    "df_avg = rolling_average(df).copy()\n",
    "df_avg[~df_avg[\"rolling_avg\"].isna()].tail()"
   ]
  },
  {
   "cell_type": "code",
   "execution_count": 108,
   "metadata": {},
   "outputs": [
    {
     "data": {
      "text/html": [
       "<div>\n",
       "<style scoped>\n",
       "    .dataframe tbody tr th:only-of-type {\n",
       "        vertical-align: middle;\n",
       "    }\n",
       "\n",
       "    .dataframe tbody tr th {\n",
       "        vertical-align: top;\n",
       "    }\n",
       "\n",
       "    .dataframe thead th {\n",
       "        text-align: right;\n",
       "    }\n",
       "</style>\n",
       "<table border=\"1\" class=\"dataframe\">\n",
       "  <thead>\n",
       "    <tr style=\"text-align: right;\">\n",
       "      <th></th>\n",
       "      <th>city</th>\n",
       "      <th>season</th>\n",
       "      <th>mean</th>\n",
       "      <th>std</th>\n",
       "    </tr>\n",
       "  </thead>\n",
       "  <tbody>\n",
       "    <tr>\n",
       "      <th>0</th>\n",
       "      <td>Beijing</td>\n",
       "      <td>autumn</td>\n",
       "      <td>16.177553</td>\n",
       "      <td>4.992722</td>\n",
       "    </tr>\n",
       "    <tr>\n",
       "      <th>1</th>\n",
       "      <td>Beijing</td>\n",
       "      <td>spring</td>\n",
       "      <td>12.862734</td>\n",
       "      <td>4.966864</td>\n",
       "    </tr>\n",
       "    <tr>\n",
       "      <th>2</th>\n",
       "      <td>Beijing</td>\n",
       "      <td>summer</td>\n",
       "      <td>27.239888</td>\n",
       "      <td>4.812940</td>\n",
       "    </tr>\n",
       "    <tr>\n",
       "      <th>3</th>\n",
       "      <td>Beijing</td>\n",
       "      <td>winter</td>\n",
       "      <td>-1.726825</td>\n",
       "      <td>4.884696</td>\n",
       "    </tr>\n",
       "    <tr>\n",
       "      <th>4</th>\n",
       "      <td>Berlin</td>\n",
       "      <td>autumn</td>\n",
       "      <td>11.225418</td>\n",
       "      <td>5.001138</td>\n",
       "    </tr>\n",
       "  </tbody>\n",
       "</table>\n",
       "</div>"
      ],
      "text/plain": [
       "      city  season       mean       std\n",
       "0  Beijing  autumn  16.177553  4.992722\n",
       "1  Beijing  spring  12.862734  4.966864\n",
       "2  Beijing  summer  27.239888  4.812940\n",
       "3  Beijing  winter  -1.726825  4.884696\n",
       "4   Berlin  autumn  11.225418  5.001138"
      ]
     },
     "execution_count": 108,
     "metadata": {},
     "output_type": "execute_result"
    }
   ],
   "source": [
    "def city_season_temp(data):\n",
    "    df_grouped = data.groupby(['city', 'season'])['temperature'].agg(['mean', 'std']).reset_index()\n",
    "    return df_grouped\n",
    "\n",
    "df_grouped = city_season_temp(df)\n",
    "df_grouped.head()"
   ]
  },
  {
   "cell_type": "code",
   "execution_count": 113,
   "metadata": {},
   "outputs": [],
   "source": [
    "def check_anomalies(data, data_grouped):\n",
    "    anomalies = []\n",
    "    for _, i in data_grouped.iterrows():\n",
    "        city, season, mean, std = i\n",
    "        cur_season_city = data[(data['city'] == city) & (data['season'] == season)]\n",
    "        cur_season_city['anomaly'] = ~cur_season_city['temperature'].between(mean - 2 * std, mean + 2 * std)\n",
    "        anomalies.append(cur_season_city)\n",
    "    return pd.concat(anomalies)"
   ]
  },
  {
   "cell_type": "code",
   "execution_count": 114,
   "metadata": {},
   "outputs": [
    {
     "data": {
      "text/html": [
       "<div>\n",
       "<style scoped>\n",
       "    .dataframe tbody tr th:only-of-type {\n",
       "        vertical-align: middle;\n",
       "    }\n",
       "\n",
       "    .dataframe tbody tr th {\n",
       "        vertical-align: top;\n",
       "    }\n",
       "\n",
       "    .dataframe thead th {\n",
       "        text-align: right;\n",
       "    }\n",
       "</style>\n",
       "<table border=\"1\" class=\"dataframe\">\n",
       "  <thead>\n",
       "    <tr style=\"text-align: right;\">\n",
       "      <th></th>\n",
       "      <th>city</th>\n",
       "      <th>timestamp</th>\n",
       "      <th>temperature</th>\n",
       "      <th>season</th>\n",
       "      <th>rolling_avg</th>\n",
       "      <th>anomaly</th>\n",
       "    </tr>\n",
       "  </thead>\n",
       "  <tbody>\n",
       "    <tr>\n",
       "      <th>13924</th>\n",
       "      <td>Tokyo</td>\n",
       "      <td>2018-02-22</td>\n",
       "      <td>16.534278</td>\n",
       "      <td>winter</td>\n",
       "      <td>8.757388</td>\n",
       "      <td>True</td>\n",
       "    </tr>\n",
       "    <tr>\n",
       "      <th>14223</th>\n",
       "      <td>Tokyo</td>\n",
       "      <td>2018-12-18</td>\n",
       "      <td>-7.887501</td>\n",
       "      <td>winter</td>\n",
       "      <td>5.093415</td>\n",
       "      <td>True</td>\n",
       "    </tr>\n",
       "    <tr>\n",
       "      <th>14253</th>\n",
       "      <td>Tokyo</td>\n",
       "      <td>2019-01-17</td>\n",
       "      <td>16.750643</td>\n",
       "      <td>winter</td>\n",
       "      <td>6.503470</td>\n",
       "      <td>True</td>\n",
       "    </tr>\n",
       "    <tr>\n",
       "      <th>14258</th>\n",
       "      <td>Tokyo</td>\n",
       "      <td>2019-01-22</td>\n",
       "      <td>-6.365854</td>\n",
       "      <td>winter</td>\n",
       "      <td>6.700736</td>\n",
       "      <td>True</td>\n",
       "    </tr>\n",
       "    <tr>\n",
       "      <th>14290</th>\n",
       "      <td>Tokyo</td>\n",
       "      <td>2019-02-23</td>\n",
       "      <td>-5.750146</td>\n",
       "      <td>winter</td>\n",
       "      <td>9.104678</td>\n",
       "      <td>True</td>\n",
       "    </tr>\n",
       "  </tbody>\n",
       "</table>\n",
       "</div>"
      ],
      "text/plain": [
       "        city   timestamp  temperature  season  rolling_avg  anomaly\n",
       "13924  Tokyo  2018-02-22    16.534278  winter     8.757388     True\n",
       "14223  Tokyo  2018-12-18    -7.887501  winter     5.093415     True\n",
       "14253  Tokyo  2019-01-17    16.750643  winter     6.503470     True\n",
       "14258  Tokyo  2019-01-22    -6.365854  winter     6.700736     True\n",
       "14290  Tokyo  2019-02-23    -5.750146  winter     9.104678     True"
      ]
     },
     "execution_count": 114,
     "metadata": {},
     "output_type": "execute_result"
    }
   ],
   "source": [
    "anomalies = check_anomalies(df,df_grouped)\n",
    "anomalies[anomalies['anomaly'] == True].tail()"
   ]
  },
  {
   "cell_type": "markdown",
   "metadata": {},
   "source": [
    "Далее создадим функции, которые выполняют анализ последовательно и параллельно"
   ]
  },
  {
   "cell_type": "code",
   "execution_count": 69,
   "metadata": {},
   "outputs": [],
   "source": [
    "def full_analyze(data):\n",
    "    data_avg = rolling_average(data)\n",
    "    data_grouped = city_season_temp(data)\n",
    "    anomalies = check_anomalies(data, data_grouped)\n",
    "    return data_avg, data_grouped, anomalies\n",
    "\n",
    "df_avg,df_grouped,anomaly = full_analyze(df)"
   ]
  },
  {
   "cell_type": "code",
   "execution_count": 78,
   "metadata": {},
   "outputs": [],
   "source": [
    "def parallel_analysis(data):\n",
    "    cities = data['city'].unique()\n",
    "    groups = [data[data['city'] == city] for city in cities]\n",
    "\n",
    "    with Pool(cpu_count()) as pool:\n",
    "        results = pool.map(full_analyze, groups)\n",
    "\n",
    "    data_avg = pd.concat([result[0] for result in results])\n",
    "    data_grouped = pd.concat([result[1] for result in results])\n",
    "    anomalies = pd.concat([result[2] for result in results])\n",
    "\n",
    "    return data_avg, data_grouped, anomalies\n",
    "\n",
    "df_avg,df_grouped,anomaly = parallel_analysis(df)"
   ]
  },
  {
   "cell_type": "code",
   "execution_count": 90,
   "metadata": {},
   "outputs": [
    {
     "name": "stdout",
     "output_type": "stream",
     "text": [
      "Непараллельное выполнение: 0.4876 сек.\n",
      "Параллельное выполнение (многопроцессное) : 0.2167 сек.\n"
     ]
    }
   ],
   "source": [
    "start = time.time()\n",
    "_ = full_analyze(df)\n",
    "time_unparallel = round(time.time() - start,4)\n",
    "\n",
    "start_parallel = time.time()\n",
    "_ = parallel_analysis(df)\n",
    "time_parallel = round(time.time() - start_parallel,4)\n",
    "\n",
    "print(f\"Непараллельное выполнение: {time_unparallel} сек.\")\n",
    "print(f\"Параллельное выполнение (многопроцессное) : {time_parallel:} сек.\")\n",
    "\n",
    "\n"
   ]
  },
  {
   "cell_type": "markdown",
   "metadata": {},
   "source": [
    "Параллельное выполнение ускоряет работу анализа в два раза.\n",
    "\n",
    "P.S. Запускал код лоакльно на ОС Ubuntu,cpu_count = 8"
   ]
  }
 ],
 "metadata": {
  "kernelspec": {
   "display_name": "base",
   "language": "python",
   "name": "python3"
  },
  "language_info": {
   "codemirror_mode": {
    "name": "ipython",
    "version": 3
   },
   "file_extension": ".py",
   "mimetype": "text/x-python",
   "name": "python",
   "nbconvert_exporter": "python",
   "pygments_lexer": "ipython3",
   "version": "3.12.7"
  }
 },
 "nbformat": 4,
 "nbformat_minor": 2
}
