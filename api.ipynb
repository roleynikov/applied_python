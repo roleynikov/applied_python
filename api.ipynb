{
 "cells": [
  {
   "cell_type": "code",
   "execution_count": 1,
   "metadata": {},
   "outputs": [],
   "source": [
    "import pandas as pd\n",
    "import numpy as np\n",
    "import requests\n",
    "import aiohttp\n",
    "import asyncio\n",
    "import time\n",
    "\n",
    "\n",
    "API_KEY = \"\""
   ]
  },
  {
   "cell_type": "code",
   "execution_count": 2,
   "metadata": {},
   "outputs": [
    {
     "data": {
      "text/html": [
       "<div>\n",
       "<style scoped>\n",
       "    .dataframe tbody tr th:only-of-type {\n",
       "        vertical-align: middle;\n",
       "    }\n",
       "\n",
       "    .dataframe tbody tr th {\n",
       "        vertical-align: top;\n",
       "    }\n",
       "\n",
       "    .dataframe thead th {\n",
       "        text-align: right;\n",
       "    }\n",
       "</style>\n",
       "<table border=\"1\" class=\"dataframe\">\n",
       "  <thead>\n",
       "    <tr style=\"text-align: right;\">\n",
       "      <th></th>\n",
       "      <th>city</th>\n",
       "      <th>timestamp</th>\n",
       "      <th>temperature</th>\n",
       "      <th>season</th>\n",
       "    </tr>\n",
       "  </thead>\n",
       "  <tbody>\n",
       "    <tr>\n",
       "      <th>0</th>\n",
       "      <td>New York</td>\n",
       "      <td>2010-01-01</td>\n",
       "      <td>3.225691</td>\n",
       "      <td>winter</td>\n",
       "    </tr>\n",
       "    <tr>\n",
       "      <th>1</th>\n",
       "      <td>New York</td>\n",
       "      <td>2010-01-02</td>\n",
       "      <td>-1.491755</td>\n",
       "      <td>winter</td>\n",
       "    </tr>\n",
       "    <tr>\n",
       "      <th>2</th>\n",
       "      <td>New York</td>\n",
       "      <td>2010-01-03</td>\n",
       "      <td>-5.728947</td>\n",
       "      <td>winter</td>\n",
       "    </tr>\n",
       "    <tr>\n",
       "      <th>3</th>\n",
       "      <td>New York</td>\n",
       "      <td>2010-01-04</td>\n",
       "      <td>3.179504</td>\n",
       "      <td>winter</td>\n",
       "    </tr>\n",
       "    <tr>\n",
       "      <th>4</th>\n",
       "      <td>New York</td>\n",
       "      <td>2010-01-05</td>\n",
       "      <td>1.976765</td>\n",
       "      <td>winter</td>\n",
       "    </tr>\n",
       "  </tbody>\n",
       "</table>\n",
       "</div>"
      ],
      "text/plain": [
       "       city   timestamp  temperature  season\n",
       "0  New York  2010-01-01     3.225691  winter\n",
       "1  New York  2010-01-02    -1.491755  winter\n",
       "2  New York  2010-01-03    -5.728947  winter\n",
       "3  New York  2010-01-04     3.179504  winter\n",
       "4  New York  2010-01-05     1.976765  winter"
      ]
     },
     "execution_count": 2,
     "metadata": {},
     "output_type": "execute_result"
    }
   ],
   "source": [
    "df = pd.read_csv(\"temperature_data.csv\")\n",
    "df.head()"
   ]
  },
  {
   "cell_type": "markdown",
   "metadata": {},
   "source": [
    "Сделаем в синхронном\\асинхронном варианте функции получения текущей температуры по городу, функцию проверки температуры на нормальность, а также сделаем а\\синхронную обертку для этих функций."
   ]
  },
  {
   "cell_type": "code",
   "execution_count": 3,
   "metadata": {},
   "outputs": [],
   "source": [
    "def curr_temp(city):\n",
    "    response = requests.get(f\"https://api.openweathermap.org/data/2.5/weather?q={city}&appid={API_KEY}&units=metric\")\n",
    "    if response.status_code == 200:\n",
    "        answer = response.json()\n",
    "        return answer['main']['temp']\n",
    "    else:\n",
    "        raise Exception(f\"Не удалось получить данные для города {city}. Код ответа - {response.status_code}\")\n",
    "    \n",
    "# curr_temp(\"New York\")"
   ]
  },
  {
   "cell_type": "code",
   "execution_count": 4,
   "metadata": {},
   "outputs": [],
   "source": [
    "async def curr_temp_async(city):\n",
    "    async with aiohttp.ClientSession() as session:\n",
    "        async with session.get(f\"https://api.openweathermap.org/data/2.5/weather?q={city}&appid={API_KEY}&units=metric\") as response:\n",
    "            if response.status == 200:\n",
    "                answer = await response.json()\n",
    "                return answer['main']['temp']\n",
    "            else:\n",
    "                raise Exception(f\"Не удалось получить данные для города {city}. Код ответа - {response.status}\")\n",
    "            \n",
    "\n",
    "# await curr_temp_async(\"New York\")"
   ]
  },
  {
   "cell_type": "code",
   "execution_count": 5,
   "metadata": {},
   "outputs": [],
   "source": [
    "def is_temperature_normal(city, season, temp, df_grouped):\n",
    "    stats = df_grouped[(df_grouped['city'] == city) & (df_grouped['season'] == season)]\n",
    "    mean = stats['mean'].values[0]\n",
    "    std = stats['std'].values[0]\n",
    "\n",
    "    return mean - 2 * std <= temp <= mean + 2 * std\n",
    "\n",
    "# grouped_df = df.groupby(['city', 'season'])['temperature'].agg(['mean', 'std']).reset_index()\n",
    "# is_temperature_normal(\"New York\", \"winter\", curr_temp(\"New York\"), grouped_df)"
   ]
  },
  {
   "cell_type": "code",
   "execution_count": 6,
   "metadata": {},
   "outputs": [],
   "source": [
    "def check_temperature_sync(city, season, df_grouped):\n",
    "    cur_temp = curr_temp(city)\n",
    "    is_normal = is_temperature_normal(city, season, cur_temp, df_grouped)\n",
    "    return cur_temp, is_normal\n",
    "\n",
    "# check_temperature_sync(\"New York\", \"winter\", grouped_df)"
   ]
  },
  {
   "cell_type": "code",
   "execution_count": 7,
   "metadata": {},
   "outputs": [],
   "source": [
    "async def check_temperature_async(city, season, df_grouped):\n",
    "    cur_temp = await curr_temp_async(city)\n",
    "    is_normal = is_temperature_normal(city, season, cur_temp, df_grouped)\n",
    "    return cur_temp, is_normal\n",
    "\n",
    "# await check_temperature_async(\"New York\", \"winter\", grouped_df)"
   ]
  },
  {
   "cell_type": "markdown",
   "metadata": {},
   "source": [
    "Далее проверим скорость работу реализованных функций в синхронном и асинхронном режиме"
   ]
  },
  {
   "cell_type": "code",
   "execution_count": 8,
   "metadata": {},
   "outputs": [],
   "source": [
    "def main_sync(cities, season, data):\n",
    "    df_grouped = data.groupby(['city', 'season'])['temperature'].agg(['mean', 'std']).reset_index()\n",
    "    results = {}\n",
    "    for city in cities:\n",
    "        try:\n",
    "            current_temp, is_normal = check_temperature_sync(city, season, df_grouped)\n",
    "            results[city] = {\"Температура\": current_temp, \"Нормальность температуры\": is_normal}\n",
    "        except Exception as e:\n",
    "            results[city] = {\"Error \": str(e)}\n",
    "\n",
    "    return results\n",
    "\n",
    "# main_sync([\"New York\"], \"winter\",df)"
   ]
  },
  {
   "cell_type": "code",
   "execution_count": 9,
   "metadata": {},
   "outputs": [],
   "source": [
    "async def main_async(cities, season, data):\n",
    "    df_grouped = data.groupby(['city', 'season'])['temperature'].agg(['mean', 'std']).reset_index()\n",
    "    results = {}\n",
    "    tasks = []\n",
    "    for city in cities:\n",
    "        tasks.append(check_temperature_async(city, season, df_grouped))\n",
    "    responses = await asyncio.gather(*tasks, return_exceptions=True)\n",
    "    for city, response in zip(cities, responses):\n",
    "        if isinstance(response, Exception):\n",
    "            results[city] = {\"Error \": str(response)}\n",
    "        else:\n",
    "            current_temp, is_normal = response\n",
    "            results[city] = {\"Температура\": current_temp,\"Нормальность температуры\": is_normal}\n",
    "    return results\n",
    "\n",
    "\n",
    "# await main_async([\"New York\",\"Berlin\",\"Cairo\",\"Abc\"], \"winter\",df)"
   ]
  },
  {
   "cell_type": "code",
   "execution_count": 10,
   "metadata": {},
   "outputs": [],
   "source": [
    "cities = [\"London\", \"Moscow\", \"Paris\", \"Mumbai\"]"
   ]
  },
  {
   "cell_type": "code",
   "execution_count": 11,
   "metadata": {},
   "outputs": [
    {
     "name": "stdout",
     "output_type": "stream",
     "text": [
      "Синхронное выполнение\n",
      "Результат : {'London': {'Температура': 2.47, 'Нормальность температуры': True}, 'Moscow': {'Температура': -0.55, 'Нормальность температуры': True}, 'Paris': {'Температура': 4.53, 'Нормальность температуры': True}, 'Mumbai': {'Температура': 25.99, 'Нормальность температуры': True}}\n",
      "Заняло времени: 3.9088 секунд\n"
     ]
    }
   ],
   "source": [
    "start_time = time.time()\n",
    "sync_results = main_sync(cities, \"winter\", df)\n",
    "time_sync = round(time.time() - start_time,4)\n",
    "\n",
    "\n",
    "print(\"Синхронное выполнение\")\n",
    "print(f\"Результат : {sync_results}\")\n",
    "print(f\"Заняло времени: {time_sync} секунд\")"
   ]
  },
  {
   "cell_type": "code",
   "execution_count": 12,
   "metadata": {},
   "outputs": [
    {
     "name": "stdout",
     "output_type": "stream",
     "text": [
      "Асинхронное выполнение\n",
      "Результат {'London': {'Температура': 2.47, 'Нормальность температуры': True}, 'Moscow': {'Температура': -0.55, 'Нормальность температуры': True}, 'Paris': {'Температура': 4.53, 'Нормальность температуры': True}, 'Mumbai': {'Температура': 25.99, 'Нормальность температуры': True}}\n",
      "Заняло времени: 0.8983 секунд\n"
     ]
    }
   ],
   "source": [
    "start_time = time.time()\n",
    "async_results = asyncio.run(main_async(cities, \"winter\", df))\n",
    "time_async = round(time.time() - start_time,4)\n",
    "\n",
    "print(\"Асинхронное выполнение\")\n",
    "print(f\"Результат {async_results}\")\n",
    "print(f\"Заняло времени: {time_async} секунд\")"
   ]
  },
  {
   "cell_type": "markdown",
   "metadata": {},
   "source": [
    "Как видим, в асинхронном режиме функицонал работает быстрее, так как асинхронность как раз необходима для оптимизации такого типа задач"
   ]
  }
 ],
 "metadata": {
  "kernelspec": {
   "display_name": "base",
   "language": "python",
   "name": "python3"
  },
  "language_info": {
   "codemirror_mode": {
    "name": "ipython",
    "version": 3
   },
   "file_extension": ".py",
   "mimetype": "text/x-python",
   "name": "python",
   "nbconvert_exporter": "python",
   "pygments_lexer": "ipython3",
   "version": "3.12.7"
  }
 },
 "nbformat": 4,
 "nbformat_minor": 2
}
